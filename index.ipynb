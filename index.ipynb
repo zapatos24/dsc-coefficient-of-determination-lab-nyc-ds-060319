{
 "cells": [
  {
   "cell_type": "markdown",
   "metadata": {},
   "source": [
    "# Coefficient of Determination - Lab\n",
    "\n",
    "## Introduction\n",
    "In the previous lesson, we looked at the Coefficient of Determination, what it means and how it is calculated. In this lesson, we shall use the R-Squared formula to calculate it in python and numpy. \n",
    "\n",
    "## Objectives\n",
    "\n",
    "You will be able to:\n",
    "\n",
    "* Mathematically calculate R-Squared using a toy dataset\n",
    "\n",
    "* Calculate the coefficient of determination (R-Squared) for a given regression line\n",
    "\n",
    "* Interpret the value of R-Squared\n",
    "\n",
    "\n",
    "## Let's get started\n",
    "\n",
    "Once a regression model is created, we need to decide how \"accurate\" the regression line is to some degree. \n",
    "\n",
    "\n",
    "Here is the equation for R-Squared or the Coefficient of Determination again: \n",
    "\n",
    "$$ R^2 = 1- \\dfrac{SS_{RES}}{SS_{TOT}} = 1- \\dfrac{\\sum_i(y_i - \\hat y_i)^2}{\\sum_i(y_i - \\overline y_i)^2} $$\n",
    " \n",
    " Note that this is also equal to:\n",
    "\n",
    "$$ R^2 = 1- \\dfrac{SS_{RES}}{SS_{TOT}}=\\dfrac{SS_{EXP}}{SS_{TOT}} $$\n",
    "where\n",
    "\n",
    "- $SS_{TOT} = \\sum_i(y_i - \\overline y_i)^2$ $\\rightarrow$ Total Sum of Squares  \n",
    "-  $SS_{EXP} = \\sum_i(\\hat y_i - \\overline y_i)^2$ $\\rightarrow$  Explained Sum of Squares\n",
    "- $SS_{RES}= \\sum_i(y_i - \\hat y_i)^2 $ $\\rightarrow$ Residual Sum of Squares\n",
    "\n",
    "Recall that the objective of $R^2$ is to learn how much of the error is a result in variation in the data features, as opposed to being a result of the regression line being a poor fit.\n",
    "\n",
    "## Programming R-Squared\n",
    "\n",
    "Let's calculate R-Squared in Python. The first step would be to calculate the Squared Error. Remember that the Squared Error is the Residual Sum of Squares of the difference between a given line and the actual data points.\n",
    "\n",
    "Create a function `sq_err()` that takes in y points for 2 arrays, calculates the difference corresponding elements of these arrays, squares, and sums all the differences. The function should return the RSS value you saw earlier."
   ]
  },
  {
   "cell_type": "code",
<<<<<<< HEAD
   "execution_count": 1,
=======
   "execution_count": 3,
>>>>>>> ce13b743fd9fe77a7aae1f017869597a386709a3
   "metadata": {},
   "outputs": [
    {
     "data": {
      "text/plain": [
       "2"
      ]
     },
<<<<<<< HEAD
     "execution_count": 1,
=======
     "execution_count": 3,
>>>>>>> ce13b743fd9fe77a7aae1f017869597a386709a3
     "metadata": {},
     "output_type": "execute_result"
    }
   ],
   "source": [
    "# Calculate sum of squared errors between regression and mean line \n",
    "import numpy as np\n",
    "\n",
    "def sq_err(y_a, y_b):\n",
    "    return sum([(y_a[i] - y_b[i])**2 for i in range(len(y_a))])\n",
    "    \"\"\"\n",
    "    input\n",
    "    y_a : true y values\n",
    "    y_b : regression line\n",
    "\n",
    "    \n",
    "    return\n",
    "    squared error between regression and true line (ss_tot)\n",
    "    \"\"\"\n",
<<<<<<< HEAD
    "    \n",
=======
>>>>>>> ce13b743fd9fe77a7aae1f017869597a386709a3
    "\n",
    "# Check the output with some toy data\n",
    "Y_a = np.array([1,3,5,7])\n",
    "Y_b = np.array([1,4,5,8])\n",
    "\n",
    "sq_err(Y_a, Y_b)\n",
    "\n",
    "# 2"
   ]
  },
  {
   "cell_type": "markdown",
   "metadata": {},
   "source": [
    "Squared error, as calculated above is only a part of the coefficient of determination, Let's now build a function that uses `sq_err()` function above to calculate the value of R-Squared by first calculating SSE, then use this same function to calculate SST (use the mean of $y$ instead of the regression line), and then plug in these values into the R-Squared formula. Perform the following tasks\n",
    "* Calculate the mean of the `y_real`\n",
    "* Calculate SSE using `sq_err()`\n",
    "* Calculate SST using `sq_err()`\n",
    "* Calculate R-Squared from above values using the given formula\n"
   ]
  },
  {
   "cell_type": "code",
<<<<<<< HEAD
   "execution_count": 2,
   "metadata": {},
   "outputs": [
    {
     "data": {
      "text/plain": [
       "0.35"
      ]
     },
     "execution_count": 2,
     "metadata": {},
     "output_type": "execute_result"
=======
   "execution_count": 5,
   "metadata": {},
   "outputs": [
    {
     "ename": "TypeError",
     "evalue": "unsupported operand type(s) for +: 'int' and 'generator'",
     "output_type": "error",
     "traceback": [
      "\u001b[0;31m\u001b[0m",
      "\u001b[0;31mTypeError\u001b[0mTraceback (most recent call last)",
      "\u001b[0;32m<ipython-input-5-72d7538a1751>\u001b[0m in \u001b[0;36m<module>\u001b[0;34m()\u001b[0m\n\u001b[1;32m     16\u001b[0m \u001b[0mY_pred\u001b[0m \u001b[0;34m=\u001b[0m \u001b[0mnp\u001b[0m\u001b[0;34m.\u001b[0m\u001b[0marray\u001b[0m\u001b[0;34m(\u001b[0m\u001b[0;34m[\u001b[0m\u001b[0;36m1\u001b[0m\u001b[0;34m,\u001b[0m\u001b[0;36m5\u001b[0m\u001b[0;34m,\u001b[0m\u001b[0;36m5\u001b[0m\u001b[0;34m,\u001b[0m\u001b[0;36m10\u001b[0m\u001b[0;34m]\u001b[0m\u001b[0;34m)\u001b[0m\u001b[0;34m\u001b[0m\u001b[0m\n\u001b[1;32m     17\u001b[0m \u001b[0;34m\u001b[0m\u001b[0m\n\u001b[0;32m---> 18\u001b[0;31m \u001b[0mr_squared\u001b[0m\u001b[0;34m(\u001b[0m\u001b[0mY\u001b[0m\u001b[0;34m,\u001b[0m \u001b[0mY_pred\u001b[0m\u001b[0;34m)\u001b[0m\u001b[0;34m\u001b[0m\u001b[0m\n\u001b[0m\u001b[1;32m     19\u001b[0m \u001b[0;34m\u001b[0m\u001b[0m\n\u001b[1;32m     20\u001b[0m \u001b[0;31m# 0.35\u001b[0m\u001b[0;34m\u001b[0m\u001b[0;34m\u001b[0m\u001b[0m\n",
      "\u001b[0;32m<ipython-input-5-72d7538a1751>\u001b[0m in \u001b[0;36mr_squared\u001b[0;34m(y_real, y_predicted)\u001b[0m\n\u001b[1;32m      2\u001b[0m \u001b[0;34m\u001b[0m\u001b[0m\n\u001b[1;32m      3\u001b[0m \u001b[0;32mdef\u001b[0m \u001b[0mr_squared\u001b[0m\u001b[0;34m(\u001b[0m\u001b[0my_real\u001b[0m\u001b[0;34m,\u001b[0m \u001b[0my_predicted\u001b[0m\u001b[0;34m)\u001b[0m\u001b[0;34m:\u001b[0m\u001b[0;34m\u001b[0m\u001b[0m\n\u001b[0;32m----> 4\u001b[0;31m     \u001b[0;32mreturn\u001b[0m \u001b[0;36m1\u001b[0m \u001b[0;34m-\u001b[0m \u001b[0;34m(\u001b[0m\u001b[0msq_err\u001b[0m\u001b[0;34m(\u001b[0m\u001b[0my_real\u001b[0m\u001b[0;34m,\u001b[0m \u001b[0my_predicted\u001b[0m\u001b[0;34m)\u001b[0m \u001b[0;34m/\u001b[0m \u001b[0;34m(\u001b[0m\u001b[0msum\u001b[0m\u001b[0;34m(\u001b[0m\u001b[0;34m[\u001b[0m\u001b[0;34m(\u001b[0m\u001b[0my_real\u001b[0m\u001b[0;34m[\u001b[0m\u001b[0mi\u001b[0m\u001b[0;34m]\u001b[0m \u001b[0;34m-\u001b[0m \u001b[0mnp\u001b[0m\u001b[0;34m.\u001b[0m\u001b[0mmean\u001b[0m\u001b[0;34m(\u001b[0m\u001b[0my_real\u001b[0m\u001b[0;34m)\u001b[0m\u001b[0;34m**\u001b[0m\u001b[0;36m2\u001b[0m \u001b[0;32mfor\u001b[0m \u001b[0mi\u001b[0m \u001b[0;32min\u001b[0m \u001b[0mrange\u001b[0m\u001b[0;34m(\u001b[0m\u001b[0mlen\u001b[0m\u001b[0;34m(\u001b[0m\u001b[0my_real\u001b[0m\u001b[0;34m)\u001b[0m\u001b[0;34m)\u001b[0m\u001b[0;34m)\u001b[0m\u001b[0;34m]\u001b[0m\u001b[0;34m)\u001b[0m\u001b[0;34m)\u001b[0m\u001b[0;34m)\u001b[0m\u001b[0;34m\u001b[0m\u001b[0m\n\u001b[0m\u001b[1;32m      5\u001b[0m     \"\"\"\n\u001b[1;32m      6\u001b[0m     \u001b[0minput\u001b[0m\u001b[0;34m\u001b[0m\u001b[0m\n",
      "\u001b[0;31mTypeError\u001b[0m: unsupported operand type(s) for +: 'int' and 'generator'"
     ]
>>>>>>> ce13b743fd9fe77a7aae1f017869597a386709a3
    }
   ],
   "source": [
    "# Calculate Y_mean , squared error for regression and mean line , and calculate r-squared\n",
    "\n",
    "def r_squared(y_real, y_predicted):\n",
<<<<<<< HEAD
    "    rss = sq_err(y_real,y_predicted)\n",
    "    tss = sum( [ (y_real[i] - np.mean(y_real))**2 for i in range(len(y_real)) ] )\n",
    "    return 1 - rss/tss\n",
    "    \n",
=======
    "    return 1 - (sq_err(y_real, y_predicted) / (sum([(y_real[i] - np.mean(y_real)**2 for i in range(len(y_real)))])))\n",
>>>>>>> ce13b743fd9fe77a7aae1f017869597a386709a3
    "    \"\"\"\n",
    "    input\n",
    "    y_real: real values\n",
    "    y_predicted: regression values\n",
    "    \n",
    "    return\n",
    "    r_squared value\n",
    "    \"\"\"\n",
    "\n",
    "# Check the output with some toy data\n",
    "Y = np.array([1,3,5,7])\n",
    "Y_pred = np.array([1,5,5,10])\n",
    "\n",
    "r_squared(Y, Y_pred)\n",
    "\n",
    "# 0.35"
   ]
  },
  {
   "cell_type": "markdown",
   "metadata": {},
   "source": [
    "This R-Squared value is very low, but remember that it wasn't from real data. So now, we have quite a few functions for calculating slope, intercept, best-fit line, plotting and calculating R-squared. In the next lab, you'll put these all together to run a complete regression experiment."
   ]
  },
  {
   "cell_type": "markdown",
   "metadata": {},
   "source": [
    "## Summary\n",
    "In this lesson, you learned how to calculate the R-Squared value in python and numpy. In the next lab, you will put all the functions from the last few labs together to create a complete DIY regression experiment. "
   ]
  }
 ],
 "metadata": {
  "kernelspec": {
   "display_name": "Python 3",
   "language": "python",
   "name": "python3"
  },
  "language_info": {
   "codemirror_mode": {
    "name": "ipython",
    "version": 3
   },
   "file_extension": ".py",
   "mimetype": "text/x-python",
   "name": "python",
   "nbconvert_exporter": "python",
   "pygments_lexer": "ipython3",
<<<<<<< HEAD
   "version": "3.7.3"
=======
   "version": "3.6.6"
>>>>>>> ce13b743fd9fe77a7aae1f017869597a386709a3
  }
 },
 "nbformat": 4,
 "nbformat_minor": 2
}
